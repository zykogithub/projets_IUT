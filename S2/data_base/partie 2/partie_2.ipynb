{
 "cells": [
  {
   "cell_type": "code",
   "execution_count": 17,
   "metadata": {},
   "outputs": [],
   "source": [
    "import getpass\n",
    "from os import getenv\n",
    "import pandas as pd\n",
    "import oracledb\n",
    "import warnings\n",
    "import matplotlib.pyplot as plt\n",
    "import seaborn as sns"
   ]
  },
  {
   "cell_type": "code",
   "execution_count": null,
   "metadata": {},
   "outputs": [],
   "source": [
    "# Nécessaire pour éviter les problèmes de session\n",
    "class Connexion(object):\n",
    "    def __init__(self, login, password):\n",
    "        self.conn = oracledb.connect(\n",
    "            user=login,\n",
    "            password=password,\n",
    "            host=\"oracle.iut-orsay.fr\",\n",
    "            port=1521,\n",
    "            sid=\"etudom\",\n",
    "        )\n",
    "        self.conn.autocommit = False\n",
    "\n",
    "    def __enter__(self):\n",
    "        self.conn.autocommit = False\n",
    "        return self.conn\n",
    "\n",
    "    def __exit__(self, *args):\n",
    "        self.conn.close()"
   ]
  }
 ],
 "metadata": {
  "kernelspec": {
   "display_name": "Python 3 (ipykernel)",
   "language": "python",
   "name": "python3"
  },
  "language_info": {
   "codemirror_mode": {
    "name": "ipython",
    "version": 3
   },
   "file_extension": ".py",
   "mimetype": "text/x-python",
   "name": "python",
   "nbconvert_exporter": "python",
   "pygments_lexer": "ipython3",
   "version": "3.10.8"
  }
 },
 "nbformat": 4,
 "nbformat_minor": 2
}
