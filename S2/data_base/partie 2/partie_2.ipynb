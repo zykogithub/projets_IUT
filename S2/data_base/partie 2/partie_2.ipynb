{
 "cells": [
  {
   "cell_type": "markdown",
   "metadata": {},
   "source": [
    "# Partie 2"
   ]
  },
  {
   "cell_type": "code",
   "execution_count": 17,
   "metadata": {},
   "outputs": [],
   "source": [
    "import getpass\n",
    "from os import getenv\n",
    "import pandas as pd\n",
    "import oracledb\n",
    "import warnings\n",
    "import matplotlib.pyplot as plt\n",
    "import seaborn as sns"
   ]
  },
  {
   "cell_type": "code",
   "execution_count": 18,
   "metadata": {},
   "outputs": [],
   "source": [
    "# Nécessaire pour éviter les problèmes de session\n",
    "class Connexion(object):\n",
    "    def __init__(self, login, password):\n",
    "        self.conn = oracledb.connect(\n",
    "            user=login,\n",
    "            password=password,\n",
    "            host=\"oracle.iut-orsay.fr\",\n",
    "            port=1521,\n",
    "            sid=\"etudom\",\n",
    "        )\n",
    "        self.conn.autocommit = False\n",
    "\n",
    "    def __enter__(self):\n",
    "        self.conn.autocommit = False\n",
    "        return self.conn\n",
    "\n",
    "    def __exit__(self, *args):\n",
    "        self.conn.close()"
   ]
  },
  {
   "cell_type": "code",
   "execution_count": 19,
   "metadata": {},
   "outputs": [],
   "source": [
    "# La fonction ci-dessous est à utiliser pour exécuter une requête et stocker les résultats dans un dataframe Pandas sans afficher d’alerte.\n",
    "# Vous pouvez vous en inspirer pour créer vos propres fonctions.\n",
    "def requete_vers_dataframe(connexion_data, requete, valeurs = None):\n",
    "    with Connexion(login=connexion_data['login'], password=connexion_data['password']) as connexion:\n",
    "        warnings.simplefilter(action='ignore', category=UserWarning)\n",
    "        if valeurs is not None:\n",
    "            df = pd.read_sql(requete, connexion, params=valeurs)\n",
    "        else:\n",
    "            df = pd.read_sql(requete, connexion)\n",
    "        warnings.simplefilter(\"always\") \n",
    "        return df"
   ]
  },
  {
   "cell_type": "code",
   "execution_count": 20,
   "metadata": {},
   "outputs": [],
   "source": [
    "# Saisir ci-dessous l'édition des JO qui vous a été attribuée. Cela correspond au LibelleHote dans la table HOTE de la base de données\n",
    "# Par exemple EDITION_JO = \"2020 Summer Olympics\"\n",
    "EDITION_JO = \"1976 Summer Olympics\"\n",
    "# Saisir ci-dessous le login court de la base utilisée pour votre carnet\n",
    "SCHEMA = \"TPLUMAS\""
   ]
  },
  {
   "cell_type": "code",
   "execution_count": 21,
   "metadata": {},
   "outputs": [],
   "source": [
    "# On demande à l'utilisateur son login et mot de passe pour pouvoir accéder à la base de données\n",
    "if getenv(\"DB_LOGIN\") is None:\n",
    "    login = input(\"Login : \")\n",
    "else:\n",
    "    login = getenv(\"DB_LOGIN\")\n",
    "if getenv(\"DB_PASS\") is None:\n",
    "    password = getpass.getpass(\"Mot de passe : \")\n",
    "else:\n",
    "    password = getenv(\"DB_PASS\")\n",
    "conn = {'login': login, 'password': password}"
   ]
  },
  {
   "cell_type": "code",
   "execution_count": 22,
   "metadata": {},
   "outputs": [
    {
     "name": "stdout",
     "output_type": "stream",
     "text": [
      "Identifiant de l’hôte : 19\n"
     ]
    }
   ],
   "source": [
    "# On vérifie que l'utilisateur est bien connecté à la base de données, que le schéma est bon, et qu'on trouve la bonne édition des JO\n",
    "data = requete_vers_dataframe(conn, f\"SELECT * FROM {SCHEMA}.HOTE WHERE LibelleHote LIKE (:libelle)\",{\"libelle\":EDITION_JO})\n",
    "id_hote = int(data.IDHOTE.iloc[0])\n",
    "print(f\"Identifiant de l’hôte : {id_hote}\")"
   ]
  },
  {
   "cell_type": "markdown",
   "metadata": {},
   "source": [
    "## Présentation des jeux olympique"
   ]
  },
  {
   "cell_type": "markdown",
   "metadata": {},
   "source": [
    "## Comparaison entre les éditions"
   ]
  },
  {
   "cell_type": "markdown",
   "metadata": {},
   "source": [
    "## Performance de l'équipe de notre choix"
   ]
  }
 ],
 "metadata": {
  "kernelspec": {
   "display_name": "Python 3 (ipykernel)",
   "language": "python",
   "name": "python3"
  },
  "language_info": {
   "codemirror_mode": {
    "name": "ipython",
    "version": 3
   },
   "file_extension": ".py",
   "mimetype": "text/x-python",
   "name": "python",
   "nbconvert_exporter": "python",
   "pygments_lexer": "ipython3",
   "version": "3.10.8"
  }
 },
 "nbformat": 4,
 "nbformat_minor": 2
}
