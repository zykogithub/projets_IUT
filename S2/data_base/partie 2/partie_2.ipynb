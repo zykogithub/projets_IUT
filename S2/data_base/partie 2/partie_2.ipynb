{
 "cells": [
  {
   "cell_type": "markdown",
   "metadata": {},
   "source": [
    "# Partie 2"
   ]
  },
  {
   "cell_type": "markdown",
   "metadata": {},
   "source": [
    "## Initialisation du kernel"
   ]
  },
  {
   "cell_type": "code",
   "execution_count": null,
   "metadata": {},
   "outputs": [
    {
     "ename": "",
     "evalue": "",
     "output_type": "error",
     "traceback": [
      "\u001b[1;31mFailed to connect to the remote Jupyter Server 'https://jupyterhub.ijclab.in2p3.fr/'. Verify the server is running and reachable. (Failed to connect to the remote Jupyter Server 'https://jupyterhub.ijclab.in2p3.fr/'. Verify the server is running and reachable. (JupyterHub server no longer running at /user/naherry.mohamed-daroueche@universite-paris-saclay.fr/api/kernels. Restart the server at http://jupyterhub.ijclab.in2p3.fr/jupyter/hub/spawn/naherry.mohamed-daroueche@universite-paris-saclay.fr).)."
     ]
    }
   ],
   "source": [
    "# !pip install --upgrade oracledb\n",
    "\n",
    "import getpass\n",
    "from os import getenv\n",
    "import pandas as pd\n",
    "import oracledb\n",
    "import warnings\n",
    "import matplotlib.pyplot as plt\n",
    "import seaborn as sns"
   ]
  },
  {
   "cell_type": "code",
   "execution_count": 5,
   "metadata": {},
   "outputs": [],
   "source": [
    "# Nécessaire pour éviter les problèmes de session\n",
    "class Connexion(object):\n",
    "    def __init__(self, login, password):\n",
    "        self.conn = oracledb.connect(\n",
    "            user=login,\n",
    "            password=password,\n",
    "            host=\"oracle.iut-orsay.fr\",\n",
    "            port=1521,\n",
    "            sid=\"etudom\",\n",
    "        )\n",
    "        self.conn.autocommit = False\n",
    "\n",
    "    def __enter__(self):\n",
    "        self.conn.autocommit = False\n",
    "        return self.conn\n",
    "\n",
    "    def __exit__(self, *args):\n",
    "        self.conn.close()"
   ]
  },
  {
   "cell_type": "code",
   "execution_count": 6,
   "metadata": {},
   "outputs": [],
   "source": [
    "# La fonction ci-dessous est à utiliser pour exécuter une requête et stocker les résultats dans un dataframe Pandas sans afficher d’alerte.\n",
    "# Vous pouvez vous en inspirer pour créer vos propres fonctions.\n",
    "def requete_vers_dataframe(connexion_data, requete, valeurs = None):\n",
    "    with Connexion(login=connexion_data['login'], password=connexion_data['password']) as connexion:\n",
    "        warnings.simplefilter(action='ignore', category=UserWarning)\n",
    "        if valeurs is not None:\n",
    "            df = pd.read_sql(requete, connexion, params=valeurs)\n",
    "        else:\n",
    "            df = pd.read_sql(requete, connexion)\n",
    "        warnings.simplefilter(\"always\") \n",
    "        return df"
   ]
  },
  {
   "cell_type": "code",
   "execution_count": 7,
   "metadata": {},
   "outputs": [],
   "source": [
    "# Saisir ci-dessous l'édition des JO qui vous a été attribuée. Cela correspond au LibelleHote dans la table HOTE de la base de données\n",
    "# Par exemple EDITION_JO = \"2020 Summer Olympics\"\n",
    "EDITION_JO = \"1976 Summer Olympics\"\n",
    "# Saisir ci-dessous le login court de la base utilisée pour votre carnet\n",
    "SCHEMA = \"TPLUMAS\""
   ]
  },
  {
   "cell_type": "code",
   "execution_count": 8,
   "metadata": {},
   "outputs": [],
   "source": [
    "# On demande à l'utilisateur son login et mot de passe pour pouvoir accéder à la base de données\n",
    "if getenv(\"DB_LOGIN\") is None:\n",
    "    login = input(\"Login : \")\n",
    "else:\n",
    "    login = getenv(\"DB_LOGIN\")\n",
    "if getenv(\"DB_PASS\") is None:\n",
    "    password = getpass.getpass(\"Mot de passe : \")\n",
    "else:\n",
    "    password = getenv(\"DB_PASS\")\n",
    "conn = {'login': login, 'password': password}"
   ]
  },
  {
   "cell_type": "code",
   "execution_count": 9,
   "metadata": {},
   "outputs": [
    {
     "name": "stdout",
     "output_type": "stream",
     "text": [
      "Identifiant de l’hôte : 19\n"
     ]
    }
   ],
   "source": [
    "# On vérifie que l'utilisateur est bien connecté à la base de données, que le schéma est bon, et qu'on trouve la bonne édition des JO\n",
    "data = requete_vers_dataframe(conn, f\"SELECT * FROM {SCHEMA}.HOTE WHERE LibelleHote LIKE (:libelle)\",{\"libelle\":EDITION_JO})\n",
    "id_hote = int(data.IDHOTE.iloc[0])\n",
    "print(f\"Identifiant de l’hôte : {id_hote}\")"
   ]
  },
  {
   "cell_type": "markdown",
   "metadata": {},
   "source": [
    "## Présentation des jeux olympique"
   ]
  },
  {
   "cell_type": "markdown",
   "metadata": {},
   "source": [
    "### Contextualisation de l'édition des JO"
   ]
  },
  {
   "cell_type": "markdown",
   "metadata": {},
   "source": [
    "Les Jeux Olympique de 1976 se sont déroulés à Montréal au Canada. Ils se sont déroulés du 17 juillet 1976 au 1 août 1976.\n",
    "\n",
    "Voici les différents lieux du site\n",
    "\n",
    "<style>\n",
    "    img{\n",
    "        display: block;\n",
    "        width: 60%;\n",
    "        height: 60%;\n",
    "        margin-left: auto;\n",
    "        margin-right: auto;\n",
    "    }\n",
    "</style>\n",
    "\n",
    "![img](https://img.olympics.com/images/image/private/t_s_16_9_g_auto/t_s_w1920/f_auto/primary/sfbgpwrndfqjeelbk0ug)\n"
   ]
  },
  {
   "cell_type": "markdown",
   "metadata": {},
   "source": [
    "Ce sont les premiers jeux au Canada.\n",
    "A noter que cette édition a vu 22 pays boycottés cette édition car la Nouvelle-Zélande avait envoyé sa délégation de rugby joué un match en Afrique du Sud, pays sous l'apartheid a cette époque.\n"
   ]
  },
  {
   "cell_type": "markdown",
   "metadata": {},
   "source": [
    "### Information général de cette édition des JO"
   ]
  },
  {
   "cell_type": "markdown",
   "metadata": {},
   "source": [
    "Il y a eu 6028 athlètes durant ces jo, avec 4781 hommes et 1247 femmes.\n",
    "21 sports, 27 disciplines et 128 épreuves difféntes durant cette édition. "
   ]
  },
  {
   "cell_type": "markdown",
   "metadata": {},
   "source": [
    "Voici quelques statisques plus détaillés"
   ]
  },
  {
   "cell_type": "code",
   "execution_count": 10,
   "metadata": {},
   "outputs": [],
   "source": [
    "requete = f\"\"\"\n",
    "    SELECT \n",
    "        nomEvenement\n",
    "    FROM \n",
    "        {SCHEMA}.EVENEMENT E\n",
    "    INNER JOIN\n",
    "        {SCHEMA}.HOTE H\n",
    "    ON\n",
    "        e.idHote = h.idHote\n",
    "        \n",
    "    WHERE\n",
    "        libelleHote = '{EDITION_JO}'\n",
    "\"\"\""
   ]
  },
  {
   "cell_type": "code",
   "execution_count": 11,
   "metadata": {},
   "outputs": [
    {
     "name": "stdout",
     "output_type": "stream",
     "text": [
      "Voici la liste de toutes les épreuves\n"
     ]
    },
    {
     "data": {
      "text/html": [
       "<div>\n",
       "<style scoped>\n",
       "    .dataframe tbody tr th:only-of-type {\n",
       "        vertical-align: middle;\n",
       "    }\n",
       "\n",
       "    .dataframe tbody tr th {\n",
       "        vertical-align: top;\n",
       "    }\n",
       "\n",
       "    .dataframe thead th {\n",
       "        text-align: right;\n",
       "    }\n",
       "</style>\n",
       "<table border=\"1\" class=\"dataframe\">\n",
       "  <thead>\n",
       "    <tr style=\"text-align: right;\">\n",
       "      <th></th>\n",
       "      <th>NOMEVENEMENT</th>\n",
       "    </tr>\n",
       "  </thead>\n",
       "  <tbody>\n",
       "    <tr>\n",
       "      <th>0</th>\n",
       "      <td>200 metres, Men</td>\n",
       "    </tr>\n",
       "    <tr>\n",
       "      <th>1</th>\n",
       "      <td>400 metres, Men</td>\n",
       "    </tr>\n",
       "    <tr>\n",
       "      <th>2</th>\n",
       "      <td>110 metres Hurdles, Men</td>\n",
       "    </tr>\n",
       "    <tr>\n",
       "      <th>3</th>\n",
       "      <td>400 metres Hurdles, Men</td>\n",
       "    </tr>\n",
       "    <tr>\n",
       "      <th>4</th>\n",
       "      <td>4 × 100 metres Relay, Men</td>\n",
       "    </tr>\n",
       "    <tr>\n",
       "      <th>...</th>\n",
       "      <td>...</td>\n",
       "    </tr>\n",
       "    <tr>\n",
       "      <th>193</th>\n",
       "      <td>Featherweight, Greco-Roman, Men</td>\n",
       "    </tr>\n",
       "    <tr>\n",
       "      <th>194</th>\n",
       "      <td>Heavyweight, Greco-Roman, Men</td>\n",
       "    </tr>\n",
       "    <tr>\n",
       "      <th>195</th>\n",
       "      <td>Lightweight, Men</td>\n",
       "    </tr>\n",
       "    <tr>\n",
       "      <th>196</th>\n",
       "      <td>Middle-Heavyweight, Men</td>\n",
       "    </tr>\n",
       "    <tr>\n",
       "      <th>197</th>\n",
       "      <td>Super-Heavyweight, Men</td>\n",
       "    </tr>\n",
       "  </tbody>\n",
       "</table>\n",
       "<p>198 rows × 1 columns</p>\n",
       "</div>"
      ],
      "text/plain": [
       "                        NOMEVENEMENT\n",
       "0                    200 metres, Men\n",
       "1                    400 metres, Men\n",
       "2            110 metres Hurdles, Men\n",
       "3            400 metres Hurdles, Men\n",
       "4          4 × 100 metres Relay, Men\n",
       "..                               ...\n",
       "193  Featherweight, Greco-Roman, Men\n",
       "194    Heavyweight, Greco-Roman, Men\n",
       "195                 Lightweight, Men\n",
       "196          Middle-Heavyweight, Men\n",
       "197           Super-Heavyweight, Men\n",
       "\n",
       "[198 rows x 1 columns]"
      ]
     },
     "execution_count": 11,
     "metadata": {},
     "output_type": "execute_result"
    }
   ],
   "source": [
    "data = requete_vers_dataframe(conn,requete)\n",
    "print(\"Voici la liste de toutes les épreuves\")\n",
    "data"
   ]
  },
  {
   "cell_type": "code",
   "execution_count": 12,
   "metadata": {},
   "outputs": [],
   "source": [
    "requete=f\"\"\"\n",
    "SELECT DISTINCT\n",
    "    nomDiscipline\n",
    "FROM\n",
    "    {SCHEMA}.DISCIPLINE D\n",
    "INNER JOIN\n",
    "    {SCHEMA}.EVENEMENT E\n",
    "ON \n",
    "    d.codeDiscipline = e.codeDiscipline\n",
    "INNER JOIN\n",
    "    {SCHEMA}.HOTE H\n",
    "ON\n",
    "    e.idHote = h.idHote\n",
    "WHERE\n",
    "    libelleHote = '{EDITION_JO}'\n",
    "\"\"\""
   ]
  },
  {
   "cell_type": "code",
   "execution_count": 13,
   "metadata": {},
   "outputs": [
    {
     "name": "stdout",
     "output_type": "stream",
     "text": [
      "Voici la liste de toutes les disciplines\n"
     ]
    },
    {
     "data": {
      "text/html": [
       "<div>\n",
       "<style scoped>\n",
       "    .dataframe tbody tr th:only-of-type {\n",
       "        vertical-align: middle;\n",
       "    }\n",
       "\n",
       "    .dataframe tbody tr th {\n",
       "        vertical-align: top;\n",
       "    }\n",
       "\n",
       "    .dataframe thead th {\n",
       "        text-align: right;\n",
       "    }\n",
       "</style>\n",
       "<table border=\"1\" class=\"dataframe\">\n",
       "  <thead>\n",
       "    <tr style=\"text-align: right;\">\n",
       "      <th></th>\n",
       "      <th>NOMDISCIPLINE</th>\n",
       "    </tr>\n",
       "  </thead>\n",
       "  <tbody>\n",
       "    <tr>\n",
       "      <th>0</th>\n",
       "      <td>Athletics</td>\n",
       "    </tr>\n",
       "    <tr>\n",
       "      <th>1</th>\n",
       "      <td>Boxing</td>\n",
       "    </tr>\n",
       "    <tr>\n",
       "      <th>2</th>\n",
       "      <td>Cycling Track</td>\n",
       "    </tr>\n",
       "    <tr>\n",
       "      <th>3</th>\n",
       "      <td>Equestrian Dressage</td>\n",
       "    </tr>\n",
       "    <tr>\n",
       "      <th>4</th>\n",
       "      <td>Swimming</td>\n",
       "    </tr>\n",
       "    <tr>\n",
       "      <th>5</th>\n",
       "      <td>Wrestling</td>\n",
       "    </tr>\n",
       "    <tr>\n",
       "      <th>6</th>\n",
       "      <td>Basketball</td>\n",
       "    </tr>\n",
       "    <tr>\n",
       "      <th>7</th>\n",
       "      <td>Canoe Sprint</td>\n",
       "    </tr>\n",
       "    <tr>\n",
       "      <th>8</th>\n",
       "      <td>Modern Pentathlon</td>\n",
       "    </tr>\n",
       "    <tr>\n",
       "      <th>9</th>\n",
       "      <td>Volleyball</td>\n",
       "    </tr>\n",
       "    <tr>\n",
       "      <th>10</th>\n",
       "      <td>Hockey</td>\n",
       "    </tr>\n",
       "    <tr>\n",
       "      <th>11</th>\n",
       "      <td>Judo</td>\n",
       "    </tr>\n",
       "    <tr>\n",
       "      <th>12</th>\n",
       "      <td>Shooting</td>\n",
       "    </tr>\n",
       "    <tr>\n",
       "      <th>13</th>\n",
       "      <td>Cycling Road</td>\n",
       "    </tr>\n",
       "    <tr>\n",
       "      <th>14</th>\n",
       "      <td>Fencing</td>\n",
       "    </tr>\n",
       "    <tr>\n",
       "      <th>15</th>\n",
       "      <td>Sailing</td>\n",
       "    </tr>\n",
       "    <tr>\n",
       "      <th>16</th>\n",
       "      <td>Archery</td>\n",
       "    </tr>\n",
       "    <tr>\n",
       "      <th>17</th>\n",
       "      <td>Artistic Gymnastics</td>\n",
       "    </tr>\n",
       "    <tr>\n",
       "      <th>18</th>\n",
       "      <td>Weightlifting</td>\n",
       "    </tr>\n",
       "    <tr>\n",
       "      <th>19</th>\n",
       "      <td>Equestrian Eventing</td>\n",
       "    </tr>\n",
       "    <tr>\n",
       "      <th>20</th>\n",
       "      <td>Equestrian Jumping</td>\n",
       "    </tr>\n",
       "    <tr>\n",
       "      <th>21</th>\n",
       "      <td>Rowing</td>\n",
       "    </tr>\n",
       "    <tr>\n",
       "      <th>22</th>\n",
       "      <td>Diving</td>\n",
       "    </tr>\n",
       "    <tr>\n",
       "      <th>23</th>\n",
       "      <td>Water Polo</td>\n",
       "    </tr>\n",
       "    <tr>\n",
       "      <th>24</th>\n",
       "      <td>Handball</td>\n",
       "    </tr>\n",
       "    <tr>\n",
       "      <th>25</th>\n",
       "      <td>Football</td>\n",
       "    </tr>\n",
       "  </tbody>\n",
       "</table>\n",
       "</div>"
      ],
      "text/plain": [
       "          NOMDISCIPLINE\n",
       "0             Athletics\n",
       "1                Boxing\n",
       "2         Cycling Track\n",
       "3   Equestrian Dressage\n",
       "4              Swimming\n",
       "5             Wrestling\n",
       "6            Basketball\n",
       "7          Canoe Sprint\n",
       "8     Modern Pentathlon\n",
       "9            Volleyball\n",
       "10               Hockey\n",
       "11                 Judo\n",
       "12             Shooting\n",
       "13         Cycling Road\n",
       "14              Fencing\n",
       "15              Sailing\n",
       "16              Archery\n",
       "17  Artistic Gymnastics\n",
       "18        Weightlifting\n",
       "19  Equestrian Eventing\n",
       "20   Equestrian Jumping\n",
       "21               Rowing\n",
       "22               Diving\n",
       "23           Water Polo\n",
       "24             Handball\n",
       "25             Football"
      ]
     },
     "execution_count": 13,
     "metadata": {},
     "output_type": "execute_result"
    }
   ],
   "source": [
    "data = requete_vers_dataframe(conn,requete)\n",
    "print(\"Voici la liste de toutes les disciplines\")\n",
    "data"
   ]
  },
  {
   "cell_type": "code",
   "execution_count": 14,
   "metadata": {},
   "outputs": [],
   "source": [
    "requete=f\"\"\"\n",
    "SELECT DISTINCT\n",
    "    nomSport\n",
    "FROM\n",
    "    {SCHEMA}.SPORT S\n",
    "INNER JOIN\n",
    "    {SCHEMA}.DISCIPLINE D\n",
    "ON \n",
    "    s.codeSport = d.codeSport\n",
    "INNER JOIN\n",
    "    {SCHEMA}.EVENEMENT E\n",
    "ON\n",
    "    d.codeDiscipline = e.codeDiscipline\n",
    "INNER JOIN\n",
    "    {SCHEMA}.HOTE H\n",
    "ON\n",
    "    e.idHote = h.idHote\n",
    "WHERE\n",
    "    libelleHote = '{EDITION_JO}'\n",
    "\"\"\""
   ]
  },
  {
   "cell_type": "code",
   "execution_count": 15,
   "metadata": {},
   "outputs": [
    {
     "name": "stdout",
     "output_type": "stream",
     "text": [
      "Voici la liste des sports\n"
     ]
    },
    {
     "data": {
      "text/html": [
       "<div>\n",
       "<style scoped>\n",
       "    .dataframe tbody tr th:only-of-type {\n",
       "        vertical-align: middle;\n",
       "    }\n",
       "\n",
       "    .dataframe tbody tr th {\n",
       "        vertical-align: top;\n",
       "    }\n",
       "\n",
       "    .dataframe thead th {\n",
       "        text-align: right;\n",
       "    }\n",
       "</style>\n",
       "<table border=\"1\" class=\"dataframe\">\n",
       "  <thead>\n",
       "    <tr style=\"text-align: right;\">\n",
       "      <th></th>\n",
       "      <th>NOMSPORT</th>\n",
       "    </tr>\n",
       "  </thead>\n",
       "  <tbody>\n",
       "    <tr>\n",
       "      <th>0</th>\n",
       "      <td>Athletics</td>\n",
       "    </tr>\n",
       "    <tr>\n",
       "      <th>1</th>\n",
       "      <td>Boxing</td>\n",
       "    </tr>\n",
       "    <tr>\n",
       "      <th>2</th>\n",
       "      <td>Wrestling</td>\n",
       "    </tr>\n",
       "    <tr>\n",
       "      <th>3</th>\n",
       "      <td>Basketball</td>\n",
       "    </tr>\n",
       "    <tr>\n",
       "      <th>4</th>\n",
       "      <td>Modern Pentathlon</td>\n",
       "    </tr>\n",
       "    <tr>\n",
       "      <th>5</th>\n",
       "      <td>Volleyball</td>\n",
       "    </tr>\n",
       "    <tr>\n",
       "      <th>6</th>\n",
       "      <td>Cycling</td>\n",
       "    </tr>\n",
       "    <tr>\n",
       "      <th>7</th>\n",
       "      <td>Hockey</td>\n",
       "    </tr>\n",
       "    <tr>\n",
       "      <th>8</th>\n",
       "      <td>Judo</td>\n",
       "    </tr>\n",
       "    <tr>\n",
       "      <th>9</th>\n",
       "      <td>Shooting</td>\n",
       "    </tr>\n",
       "    <tr>\n",
       "      <th>10</th>\n",
       "      <td>Fencing</td>\n",
       "    </tr>\n",
       "    <tr>\n",
       "      <th>11</th>\n",
       "      <td>Sailing</td>\n",
       "    </tr>\n",
       "    <tr>\n",
       "      <th>12</th>\n",
       "      <td>Aquatics</td>\n",
       "    </tr>\n",
       "    <tr>\n",
       "      <th>13</th>\n",
       "      <td>Gymnastics</td>\n",
       "    </tr>\n",
       "    <tr>\n",
       "      <th>14</th>\n",
       "      <td>Archery</td>\n",
       "    </tr>\n",
       "    <tr>\n",
       "      <th>15</th>\n",
       "      <td>Weightlifting</td>\n",
       "    </tr>\n",
       "    <tr>\n",
       "      <th>16</th>\n",
       "      <td>Canoeing</td>\n",
       "    </tr>\n",
       "    <tr>\n",
       "      <th>17</th>\n",
       "      <td>Rowing</td>\n",
       "    </tr>\n",
       "    <tr>\n",
       "      <th>18</th>\n",
       "      <td>Equestrian</td>\n",
       "    </tr>\n",
       "    <tr>\n",
       "      <th>19</th>\n",
       "      <td>Handball</td>\n",
       "    </tr>\n",
       "    <tr>\n",
       "      <th>20</th>\n",
       "      <td>Football</td>\n",
       "    </tr>\n",
       "  </tbody>\n",
       "</table>\n",
       "</div>"
      ],
      "text/plain": [
       "             NOMSPORT\n",
       "0           Athletics\n",
       "1              Boxing\n",
       "2           Wrestling\n",
       "3          Basketball\n",
       "4   Modern Pentathlon\n",
       "5          Volleyball\n",
       "6             Cycling\n",
       "7              Hockey\n",
       "8                Judo\n",
       "9            Shooting\n",
       "10            Fencing\n",
       "11            Sailing\n",
       "12           Aquatics\n",
       "13         Gymnastics\n",
       "14            Archery\n",
       "15      Weightlifting\n",
       "16           Canoeing\n",
       "17             Rowing\n",
       "18         Equestrian\n",
       "19           Handball\n",
       "20           Football"
      ]
     },
     "execution_count": 15,
     "metadata": {},
     "output_type": "execute_result"
    }
   ],
   "source": [
    "data=requete_vers_dataframe(conn,requete)\n",
    "print(\"Voici la liste des sports\")\n",
    "data"
   ]
  },
  {
   "cell_type": "code",
   "execution_count": 16,
   "metadata": {},
   "outputs": [],
   "source": [
    "requete = f\"\"\"\n",
    "\n",
    "SELECT \n",
    "    COUNT(DISTINCT noc) AS NB\n",
    "FROM\n",
    "    (\n",
    "        SELECT PI.noc,idEvent\n",
    "        FROM {SCHEMA}.PARTICIPATION_INDIVIDUELLE PI\n",
    "        UNION\n",
    "        SELECT e.noc,idEvenement\n",
    "        FROM {SCHEMA}.PARTICIPATION_EQUIPE PE\n",
    "        INNER JOIN {SCHEMA}.EQUIPE E ON PE.idEquipe = E.idEquipe\n",
    "    )\n",
    "INNER JOIN\n",
    "    {SCHEMA}.EVENEMENT E ON idEvent = E.idEvenement\n",
    "INNER JOIN\n",
    "    {SCHEMA}.HOTE H ON E.idHote = H.idHote\n",
    "WHERE\n",
    "    H.libelleHote = '{EDITION_JO}'\n",
    "\"\"\"\n"
   ]
  },
  {
   "cell_type": "code",
   "execution_count": 17,
   "metadata": {},
   "outputs": [
    {
     "name": "stdout",
     "output_type": "stream",
     "text": [
      "nombre de pays : 92\n"
     ]
    }
   ],
   "source": [
    "nbPays=requete_vers_dataframe(conn,requete).NB.iloc[0]\n",
    "print(f\"nombre de pays : {nbPays}\")"
   ]
  },
  {
   "cell_type": "markdown",
   "metadata": {},
   "source": [
    "### Quelques statistiques concernant cette édition"
   ]
  },
  {
   "cell_type": "code",
   "execution_count": 1,
   "metadata": {},
   "outputs": [
    {
     "data": {
      "text/plain": [
       "\"\\nTODO : voici les statistique à faire\\n\\n- proportion en pourcentage sur homme femme\\n- proportion des médailes remportés par NOC\\n- épreuve, discipline, sport ayant le plus d'athlète\\n- trouver les nouvelles épreuves\\n- que veux-dire répartition par genre ?\\n- répartition des différentes catégorie d'épreuve (genre tant de pourcent d'épreuve)\\n\\n\""
      ]
     },
     "execution_count": 1,
     "metadata": {},
     "output_type": "execute_result"
    }
   ],
   "source": [
    "'''\n",
    "TODO : voici les statistique à faire\n",
    "\n",
    "- proportion en pourcentage sur homme femme\n",
    "- proportion des médailes remportés par NOC\n",
    "- épreuve, discipline, sport ayant le plus d'athlète\n",
    "- trouver les nouvelles épreuves\n",
    "- que veux-dire répartition par genre ?\n",
    "- répartition des différentes catégorie d'épreuve (genre tant de pourcent d'épreuve)\n",
    "\n",
    "'''"
   ]
  },
  {
   "cell_type": "code",
   "execution_count": null,
   "metadata": {},
   "outputs": [],
   "source": [
    "requete=f\"\"\"\n",
    "SELECT COUNT(*)\n",
    "\n",
    "\n",
    "\"\"\""
   ]
  },
  {
   "cell_type": "markdown",
   "metadata": {},
   "source": [
    "## Comparaison entre les éditions"
   ]
  },
  {
   "cell_type": "markdown",
   "metadata": {},
   "source": [
    "## Performance de l'équipe de notre choix"
   ]
  }
 ],
 "metadata": {
  "kernelspec": {
   "display_name": "Python 3 (ipykernel)",
   "language": "python",
   "name": "python3"
  }
 },
 "nbformat": 4,
 "nbformat_minor": 2
}
